{
 "cells": [
  {
   "cell_type": "code",
   "execution_count": 1,
   "id": "2c6e39bf-b76e-4cbf-828d-644b6884ea6f",
   "metadata": {},
   "outputs": [
    {
     "ename": "ModuleNotFoundError",
     "evalue": "No module named 'matplotlib'",
     "output_type": "error",
     "traceback": [
      "\u001b[0;31m---------------------------------------------------------------------------\u001b[0m",
      "\u001b[0;31mModuleNotFoundError\u001b[0m                       Traceback (most recent call last)",
      "Cell \u001b[0;32mIn[1], line 1\u001b[0m\n\u001b[0;32m----> 1\u001b[0m \u001b[38;5;28;01mimport\u001b[39;00m \u001b[38;5;21;01mmatplotlib\u001b[39;00m\u001b[38;5;21;01m.\u001b[39;00m\u001b[38;5;21;01mpyplot\u001b[39;00m \u001b[38;5;28;01mas\u001b[39;00m \u001b[38;5;21;01mplt\u001b[39;00m\n\u001b[1;32m      2\u001b[0m \u001b[38;5;28;01mimport\u001b[39;00m \u001b[38;5;21;01mnumpy\u001b[39;00m \u001b[38;5;28;01mas\u001b[39;00m \u001b[38;5;21;01mnp\u001b[39;00m\n\u001b[1;32m      4\u001b[0m xp\u001b[38;5;241m=\u001b[39m([\u001b[38;5;241m1\u001b[39m,\u001b[38;5;241m5\u001b[39m])\n",
      "\u001b[0;31mModuleNotFoundError\u001b[0m: No module named 'matplotlib'"
     ]
    }
   ],
   "source": [
    "import matplotlib.pyplot as plt\n",
    "import numpy as np\n",
    "\n",
    "xp=([1,5])\n",
    "yp=([3,10])\n",
    "\n",
    "\n",
    "my='TITLE2'\n",
    "plt.subplot(2,3,1)\n",
    "plt.grid()\n",
    "plt.plot(xp,yp,'*:g')\n",
    "plt.title(my)\n",
    "\n",
    "xp=([1,5])\n",
    "yp=([3,10])\n",
    "plt.ylabel('abc',c='blue')\n",
    "plt.xlabel('cde',c='blue')\n",
    "plt.subplot(2,3,2)\n",
    "plt.plot(xp,yp,'o')\n",
    "\n",
    "yp1=([2,5,1,6,3])\n",
    "yp2=([5,2,4,1,8])\n",
    "plt.subplot(2,3,3)\n",
    "plt.plot(yp1,lw=20.5,marker='*',c='orange')\n",
    "\n",
    "plt.plot(yp2,linestyle='dotted')\n",
    "\n",
    "\n",
    "xp=([1,3,6,8])\n",
    "yp=([3,8,4,10])\n",
    "plt.subplot(2,3,4)\n",
    "plt.plot(xp,yp,mfc='yellow',mec='black',marker='o')\n",
    "\n",
    "\n",
    "a=([5,8,10,7])\n",
    "b=([3,6,9,12])\n",
    "color=([0,10,20,30])\n",
    "plt.subplot(2,3,5)\n",
    "plt.scatter(a,b,alpha=0.5,c=color,cmap='viridis')\n",
    "\n",
    "\n",
    "a=(['A','B','C',])\n",
    "b=([5,10,8])\n",
    "oc=\"red\"\n",
    "plt.subplot(2,3,6)\n",
    "plt.bar(a,b,color=oc)\n",
    "plt.suptitle('GRAPH')\n",
    "plt.subplots_adjust(hspace=0.5)\n",
    "plt.show()"
   ]
  },
  {
   "cell_type": "code",
   "execution_count": 1,
   "id": "69b69401-ea49-4ac2-8a8e-545b26b8928e",
   "metadata": {},
   "outputs": [
    {
     "ename": "ModuleNotFoundError",
     "evalue": "No module named 'matplotlib'",
     "output_type": "error",
     "traceback": [
      "\u001b[0;31m---------------------------------------------------------------------------\u001b[0m",
      "\u001b[0;31mModuleNotFoundError\u001b[0m                       Traceback (most recent call last)",
      "Cell \u001b[0;32mIn[1], line 1\u001b[0m\n\u001b[0;32m----> 1\u001b[0m \u001b[38;5;28;01mimport\u001b[39;00m \u001b[38;5;21;01mmatplotlib\u001b[39;00m\u001b[38;5;21;01m.\u001b[39;00m\u001b[38;5;21;01mpyplot\u001b[39;00m \u001b[38;5;28;01mas\u001b[39;00m \u001b[38;5;21;01mplt\u001b[39;00m\n\u001b[1;32m      2\u001b[0m \u001b[38;5;28;01mimport\u001b[39;00m \u001b[38;5;21;01mnumpy\u001b[39;00m \u001b[38;5;28;01mas\u001b[39;00m \u001b[38;5;21;01mnp\u001b[39;00m\n\u001b[1;32m      4\u001b[0m y \u001b[38;5;241m=\u001b[39m np\u001b[38;5;241m.\u001b[39marray([\u001b[38;5;241m35\u001b[39m, \u001b[38;5;241m20\u001b[39m, \u001b[38;5;241m20\u001b[39m, \u001b[38;5;241m25\u001b[39m])\n",
      "\u001b[0;31mModuleNotFoundError\u001b[0m: No module named 'matplotlib'"
     ]
    }
   ],
   "source": [
    "import matplotlib.pyplot as plt\n",
    "import numpy as np\n",
    "\n",
    "y = np.array([35, 20, 20, 25])\n",
    "labels = ['35','20','20','25']\n",
    "colo=['red','blue','blue','black']\n",
    "ex = [0.1, 0, 0, 0]\n",
    "\n",
    "plt.pie(y, labels=labels,startangle=90,explode=ex,shadow='true',colors=colo)\n",
    "plt.legend()\n",
    "plt.show()\n"
   ]
  },
  {
   "cell_type": "code",
   "execution_count": null,
   "id": "5de302d1-35fa-46a5-9cc6-0b3339e665a9",
   "metadata": {},
   "outputs": [],
   "source": []
  }
 ],
 "metadata": {
  "kernelspec": {
   "display_name": "Python 3 (ipykernel)",
   "language": "python",
   "name": "python3"
  },
  "language_info": {
   "codemirror_mode": {
    "name": "ipython",
    "version": 3
   },
   "file_extension": ".py",
   "mimetype": "text/x-python",
   "name": "python",
   "nbconvert_exporter": "python",
   "pygments_lexer": "ipython3",
   "version": "3.10.12"
  }
 },
 "nbformat": 4,
 "nbformat_minor": 5
}
