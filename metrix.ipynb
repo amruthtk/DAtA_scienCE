{
 "cells": [
  {
   "cell_type": "code",
   "execution_count": 15,
   "id": "fa4ca716-7684-4259-b544-5319dbc654ce",
   "metadata": {},
   "outputs": [
    {
     "name": "stdout",
     "output_type": "stream",
     "text": [
      "ADDITION:\n",
      " [[ 6  8]\n",
      " [10 12]]\n",
      "SUBTRACTION:\n",
      " [[-4 -4]\n",
      " [-4 -4]]\n",
      "MULTIPLICATION:\n",
      " [[ 5 12]\n",
      " [21 32]]\n",
      "DOT PRODUCT:\n",
      " [[19 22]\n",
      " [43 50]]\n",
      "METRIX TRANSPOSE:\n",
      " [[1 3]\n",
      " [2 4]]\n"
     ]
    }
   ],
   "source": [
    "import numpy as np\n",
    "m1 = np.array([[1, 2], [3, 4]])\n",
    "m2 = np.array([[5, 6], [7, 8]])\n",
    "print(\"ADDITION:\\n\", m1 + m2)\n",
    "print(\"SUBTRACTION:\\n\", m1 - m2)\n",
    "print(\"MULTIPLICATION:\\n\", m1 * m2)\n",
    "print(\"DOT PRODUCT:\\n\", np.dot(m1,m2))\n",
    "print(\"METRIX TRANSPOSE:\\n\", m1.T)"
   ]
  },
  {
   "cell_type": "code",
   "execution_count": null,
   "id": "112f12b4-086b-456b-8617-2d3f03070ac4",
   "metadata": {},
   "outputs": [],
   "source": []
  }
 ],
 "metadata": {
  "kernelspec": {
   "display_name": "Python 3 (ipykernel)",
   "language": "python",
   "name": "python3"
  },
  "language_info": {
   "codemirror_mode": {
    "name": "ipython",
    "version": 3
   },
   "file_extension": ".py",
   "mimetype": "text/x-python",
   "name": "python",
   "nbconvert_exporter": "python",
   "pygments_lexer": "ipython3",
   "version": "3.11.5"
  }
 },
 "nbformat": 4,
 "nbformat_minor": 5
}
