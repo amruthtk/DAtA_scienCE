{
 "cells": [
  {
   "cell_type": "code",
   "execution_count": 3,
   "id": "14abebcb-43d5-4fa1-95c8-46988dea5706",
   "metadata": {},
   "outputs": [
    {
     "name": "stdout",
     "output_type": "stream",
     "text": [
      "Original Matrix:\n",
      " [[1 2 3]\n",
      " [4 5 6]\n",
      " [7 8 9]]\n",
      "Reconstructed Matrix with n_components=2:\n",
      " [[1. 2. 3.]\n",
      " [4. 5. 6.]\n",
      " [7. 8. 9.]]\n"
     ]
    }
   ],
   "source": [
    "import numpy as np\n",
    "X = np.array([[1, 2, 3],\n",
    "              [4, 5, 6],\n",
    "              [7, 8, 9]])\n",
    "U, S, VT = np.linalg.svd(X)\n",
    "n_components = 2\n",
    "X_re = np.dot(U[:, :n_components], np.dot(np.diag(S[:n_components]), VT[:n_components, :]))\n",
    "print(\"Original Matrix:\\n\", X)\n",
    "print(\"Reconstructed Matrix with n_components=2:\\n\", X_re)"
   ]
  },
  {
   "cell_type": "code",
   "execution_count": null,
   "id": "45da9214-c886-47ac-baa1-d18cca22f7e5",
   "metadata": {},
   "outputs": [],
   "source": []
  }
 ],
 "metadata": {
  "kernelspec": {
   "display_name": "Python 3 (ipykernel)",
   "language": "python",
   "name": "python3"
  },
  "language_info": {
   "codemirror_mode": {
    "name": "ipython",
    "version": 3
   },
   "file_extension": ".py",
   "mimetype": "text/x-python",
   "name": "python",
   "nbconvert_exporter": "python",
   "pygments_lexer": "ipython3",
   "version": "3.11.5"
  }
 },
 "nbformat": 4,
 "nbformat_minor": 5
}
